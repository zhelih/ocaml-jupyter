{
 "cells": [
  {
   "cell_type": "code",
   "execution_count": null,
   "metadata": {},
   "outputs": [],
   "source": [
    "#require \"jupyter.notebook\" ;;\n",
    "\n",
    "Jupyter_notebook.display \"text/html\" \"<h1>Hello, World!</h1>\" ;;"
   ]
  },
  {
   "cell_type": "code",
   "execution_count": null,
   "metadata": {},
   "outputs": [],
   "source": [
    "Jupyter_notebook.Process.sh {|pwd|}"
   ]
  },
  {
   "cell_type": "code",
   "execution_count": null,
   "metadata": {},
   "outputs": [],
   "source": [
    "Jupyter_notebook.Process.zsh {|pwd|}"
   ]
  },
  {
   "cell_type": "code",
   "execution_count": null,
   "metadata": {},
   "outputs": [],
   "source": [
    "Jupyter_notebook.Process.bash {|pwd|}"
   ]
  },
  {
   "cell_type": "code",
   "execution_count": null,
   "metadata": {},
   "outputs": [],
   "source": [
    "Jupyter_notebook.Process.python3 {|print(\"ok\")|}"
   ]
  },
  {
   "cell_type": "code",
   "execution_count": null,
   "metadata": {},
   "outputs": [],
   "source": [
    "Jupyter_notebook.Process.ruby {|print \"ok\n\"|}"
   ]
  },
  {
   "cell_type": "code",
   "execution_count": null,
   "metadata": {},
   "outputs": [],
   "source": [
    "Jupyter_notebook.Bench.time (fun () -> 2. ** 1000.)"
   ]
  },
  {
   "cell_type": "code",
   "execution_count": null,
   "metadata": {},
   "outputs": [],
   "source": [
    "Jupyter_notebook.Bench.timeit (fun () -> 2. ** 1000.)"
   ]
  },
  {
   "cell_type": "code",
   "execution_count": null,
   "metadata": {},
   "outputs": [],
   "source": [
    "let r = Jupyter_notebook.Process.capture_in_process (fun () -> print_endline \"ok\") in\n",
    "assert(r.exit_status = Unix.WEXITED 0) ;\n",
    "assert(r.stdout = Some \"ok\\n\") ;\n",
    "assert(r.stderr = None) ;\n"
   ]
  },
  {
   "cell_type": "code",
   "execution_count": null,
   "metadata": {},
   "outputs": [],
   "source": [
    "let r = Jupyter_notebook.Process.capture_in_process ~capture_stderr:`Yes (fun () -> prerr_endline \"ok\") in\n",
    "assert(r.exit_status = Unix.WEXITED 0) ;\n",
    "assert(r.stdout = Some \"\") ;\n",
    "assert(r.stderr = Some \"ok\\n\") ;\n"
   ]
  },
  {
   "cell_type": "code",
   "execution_count": null,
   "metadata": {},
   "outputs": [],
   "source": [
    "let r = Jupyter_notebook.Process.capture_in_process ~capture_stderr:`Redirect_to_stdout (fun () -> prerr_endline \"ok\") in\n",
    "assert(r.exit_status = Unix.WEXITED 0) ;\n",
    "assert(r.stdout = Some \"ok\\n\") ;\n",
    "assert(r.stderr = None) ;\n"
   ]
  }
 ],
 "metadata": {
  "kernelspec": {
   "display_name": "OCaml default",
   "language": "OCaml",
   "name": "__KERNEL_NAME__"
  },
  "language_info": {
   "codemirror_mode": "text/x-ocaml",
   "file_extension": ".ml",
   "mimetype": "text/x-ocaml",
   "name": "OCaml",
   "nbconverter_exporter": null,
   "pygments_lexer": "OCaml",
   "version": "4.11.1"
  }
 },
 "nbformat": 4,
 "nbformat_minor": 4
}
